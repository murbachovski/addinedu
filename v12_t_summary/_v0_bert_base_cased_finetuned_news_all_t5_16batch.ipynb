{
  "nbformat": 4,
  "nbformat_minor": 0,
  "metadata": {
    "colab": {
      "machine_shape": "hm",
      "gpuType": "T4",
      "provenance": []
    },
    "accelerator": "GPU",
    "kaggle": {
      "accelerator": "gpu"
    },
    "language_info": {
      "name": "python"
    },
    "kernelspec": {
      "name": "python3",
      "display_name": "Python 3"
    }
  },
  "cells": [
    {
      "cell_type": "code",
      "source": [
        "!pip install -U transformers"
      ],
      "metadata": {
        "id": "MKsmxfFpImq6"
      },
      "execution_count": null,
      "outputs": []
    },
    {
      "cell_type": "markdown",
      "source": [
        "Model page: https://huggingface.co/annabellehuether/bert-base-cased-finetuned-news-all-t5-16batch\n",
        "\n",
        "⚠️ If the generated code snippets do not work, please open an issue on either the [model repo](https://huggingface.co/annabellehuether/bert-base-cased-finetuned-news-all-t5-16batch)\n",
        "\t\t\tand/or on [huggingface.js](https://github.com/huggingface/huggingface.js/blob/main/packages/tasks/src/model-libraries-snippets.ts) 🙏"
      ],
      "metadata": {
        "id": "yWtEFK83Imq6"
      }
    },
    {
      "cell_type": "code",
      "source": [
        "# Use a pipeline as a high-level helper\n",
        "from transformers import pipeline"
      ],
      "metadata": {
        "id": "Pyi9c2jsJs_I"
      },
      "execution_count": 5,
      "outputs": []
    },
    {
      "cell_type": "code",
      "source": [
        "summarizer = pipeline(\"summarization\", model=\"t5-small\")"
      ],
      "metadata": {
        "colab": {
          "base_uri": "https://localhost:8080/"
        },
        "id": "SKWDt3yaI3mv",
        "outputId": "e99b122d-60d1-4e16-d6b4-8485edb63c18"
      },
      "execution_count": 6,
      "outputs": [
        {
          "output_type": "stream",
          "name": "stderr",
          "text": [
            "Device set to use cuda:0\n"
          ]
        }
      ]
    },
    {
      "cell_type": "code",
      "source": [
        "summary = summarizer(\n",
        "    '''\n",
        "Gyeonggi Ilbo establishes AI article recommendation system by November... Customized news 'Ssoksoksok'\n",
        "Approved 2025-06-25 20:16\n",
        "Selection of the Proposed Project for Local Newspaper...History Analysis of HomeP Visitors\n",
        "\n",
        "This is a material image to help the article understand and is not directly related to the article. Image Today\n",
        "\n",
        "The Gyeonggi Ilbo will introduce a \"AI article recommendation system\" for local readers' customized news services.\n",
        "\n",
        "The Gyeonggi Ilbo has been selected as a priority support target for the regional newspaper development fund for 12 consecutive years, and was finally selected for the \"2025 regional newspaper proposal project.\" Through this project, the Gyeonggi Ilbo plans to establish an \"AI article recommendation system,\" a news content personalization system based on readers' interests.\n",
        "\n",
        "The AI automatically analyzes a visitor's history of reading articles on the website of the Gyeonggi Ilbo and recommends articles with high relevance. Beyond the simple arrangement of articles, the AI provides articles that it wants to read more in real time by reflecting readers' clicks and search patterns. In addition, AI analyzes related news based on the content of articles read by the visitor and makes customized recommendations. The AI article recommendation function according to various topics and interests will also be installed.\n",
        "\n",
        "The Gyeonggi Ilbo expects the introduction of the system to increase the time spent on the website and allow readers to access a wider variety of content.\n",
        "\n",
        "The system will start development next month, complete construction by the end of November, and be commercialized in earnest.\n",
        "'''\n",
        ")"
      ],
      "metadata": {
        "id": "ctVb4UNZI3pD"
      },
      "execution_count": 15,
      "outputs": []
    },
    {
      "cell_type": "code",
      "source": [
        "print(summary[0]['summary_text'])"
      ],
      "metadata": {
        "colab": {
          "base_uri": "https://localhost:8080/"
        },
        "id": "muR8gBvhJxOk",
        "outputId": "f3a1216f-e574-4a63-da90-58cd621442b9"
      },
      "execution_count": 16,
      "outputs": [
        {
          "output_type": "stream",
          "name": "stdout",
          "text": [
            "the Gyeonggi Ilbo will introduce a \"AI article recommendation system\" for local readers' customized news services . the system will start development next month, complete construction by the end of November .\n"
          ]
        }
      ]
    },
    {
      "cell_type": "code",
      "source": [],
      "metadata": {
        "id": "t4TmFdrhK1a0"
      },
      "execution_count": null,
      "outputs": []
    }
  ]
}